{
 "cells": [
  {
   "cell_type": "markdown",
   "metadata": {},
   "source": [
    "# Titanic Survivors Predictors\n",
    "This notebook is a walkthrough of the attempts made to create accurate predictors for the titanic survivors dataset.  It contains analysis of the data, followed by creation of a baseline benchmark predictor.  This benchmark is then used to measure the relative success of later models.\n",
    "\n",
    "## Import libraries, read in data, and inspect."
   ]
  },
  {
   "cell_type": "code",
   "execution_count": 12,
   "metadata": {
    "collapsed": false
   },
   "outputs": [
    {
     "name": "stdout",
     "output_type": "stream",
     "text": [
      "   PassengerId  Survived  Pclass  \\\n",
      "0            1         0       3   \n",
      "1            2         1       1   \n",
      "2            3         1       3   \n",
      "3            4         1       1   \n",
      "4            5         0       3   \n",
      "\n",
      "                                                Name     Sex   Age  SibSp  \\\n",
      "0                            Braund, Mr. Owen Harris    male  22.0      1   \n",
      "1  Cumings, Mrs. John Bradley (Florence Briggs Th...  female  38.0      1   \n",
      "2                             Heikkinen, Miss. Laina  female  26.0      0   \n",
      "3       Futrelle, Mrs. Jacques Heath (Lily May Peel)  female  35.0      1   \n",
      "4                           Allen, Mr. William Henry    male  35.0      0   \n",
      "\n",
      "   Parch            Ticket     Fare Cabin Embarked  \n",
      "0      0         A/5 21171   7.2500   NaN        S  \n",
      "1      0          PC 17599  71.2833   C85        C  \n",
      "2      0  STON/O2. 3101282   7.9250   NaN        S  \n",
      "3      0            113803  53.1000  C123        S  \n",
      "4      0            373450   8.0500   NaN        S  \n",
      "       PassengerId    Survived      Pclass         Age       SibSp  \\\n",
      "count   891.000000  891.000000  891.000000  714.000000  891.000000   \n",
      "mean    446.000000    0.383838    2.308642   29.699118    0.523008   \n",
      "std     257.353842    0.486592    0.836071   14.526497    1.102743   \n",
      "min       1.000000    0.000000    1.000000    0.420000    0.000000   \n",
      "25%     223.500000    0.000000    2.000000   20.125000    0.000000   \n",
      "50%     446.000000    0.000000    3.000000   28.000000    0.000000   \n",
      "75%     668.500000    1.000000    3.000000   38.000000    1.000000   \n",
      "max     891.000000    1.000000    3.000000   80.000000    8.000000   \n",
      "\n",
      "            Parch        Fare  \n",
      "count  891.000000  891.000000  \n",
      "mean     0.381594   32.204208  \n",
      "std      0.806057   49.693429  \n",
      "min      0.000000    0.000000  \n",
      "25%      0.000000    7.910400  \n",
      "50%      0.000000   14.454200  \n",
      "75%      0.000000   31.000000  \n",
      "max      6.000000  512.329200  \n"
     ]
    }
   ],
   "source": [
    "import pandas as pd\n",
    "import numpy as np\n",
    "import seaborn as sns\n",
    "import matplotlib.pyplot as plt\n",
    "%matplotlib inline\n",
    "\n",
    "titanic_train = pd.read_csv(\"train.csv\")\n",
    "titanic_test = pd.read_csv(\"test.csv\")\n",
    "\n",
    "print(titanic_train.head(5))\n",
    "print(titanic_train.describe())\n"
   ]
  },
  {
   "cell_type": "markdown",
   "metadata": {},
   "source": [
    "### Inspect the features\n",
    "\n",
    "Intuitively, Pclass, Age, SibSp, and Fare seem likely to be the most useful numeric features in this data.  Sex seems like a useful non-numeric feature.  Embarked may also be useful, because it may have some indication of the social status of a passenger, although this information is probably already present through Pclass and fare.  Similarly, Cabin could be useful for the same purpose, as well as providing information about a passenger's proximity to life boats.  We will inspect these further by visualization.  \n",
    "\n",
    "In order to make plotting the data easier, let's first do some quick fixup."
   ]
  },
  {
   "cell_type": "markdown",
   "metadata": {},
   "source": [
    "#### Fixing up the data:\n",
    "\n",
    "First, set values for all missing age attributes<br>\n",
    "Then, encode the gender values"
   ]
  },
  {
   "cell_type": "code",
   "execution_count": 129,
   "metadata": {
    "collapsed": false
   },
   "outputs": [],
   "source": [
    "titanic_train[\"Age\"] = titanic_train[\"Age\"].fillna(titanic_train[\"Age\"].median())\n",
    "\n",
    "#Set the \"Sex\" value to 0 for any entry that has \"Sex\" value of \"male\" and set the value to 1 for any entry that has\n",
    "#\"Sex\" value of \"female\"\n",
    "titanic_train.loc[titanic_train[\"Sex\"] == \"male\", \"Sex\"] = 0\n",
    "titanic_train.loc[titanic_train[\"Sex\"] == \"female\", \"Sex\"] = 1\n",
    "\n",
    "titanic_train[\"Name_Length\"] = titanic_train[\"Name\"].str.len()\n",
    "\n",
    "\n",
    "\n",
    "titanic_test[\"Age\"] = titanic_test[\"Age\"].fillna(titanic_test[\"Age\"].median())\n",
    "titanic_test[\"Fare\"] = titanic_test[\"Fare\"].fillna(titanic_test[\"Fare\"].median())\n",
    "titanic_test.loc[titanic_test[\"Sex\"] == \"male\", \"Sex\"] = 0\n",
    "titanic_test.loc[titanic_test[\"Sex\"] == \"female\", \"Sex\"] = 1\n",
    "\n",
    "titanic_test[\"Name_Length\"] = titanic_test[\"Name\"].str.len()"
   ]
  },
  {
   "cell_type": "markdown",
   "metadata": {},
   "source": [
    "<br>Now, Check the values of other non-numeric features; encode them accordingly."
   ]
  },
  {
   "cell_type": "code",
   "execution_count": 28,
   "metadata": {
    "collapsed": false
   },
   "outputs": [
    {
     "name": "stdout",
     "output_type": "stream",
     "text": [
      "['S' 'C' 'Q' nan]\n"
     ]
    },
    {
     "data": {
      "text/plain": [
       "<matplotlib.axes._subplots.AxesSubplot at 0x7f7cc2a50898>"
      ]
     },
     "execution_count": 28,
     "metadata": {},
     "output_type": "execute_result"
    },
    {
     "data": {
      "image/png": "[encoded data removed]",
      "text/plain": [
       "<matplotlib.figure.Figure at 0x7f7cc310bc50>"
      ]
     },
     "metadata": {},
     "output_type": "display_data"
    }
   ],
   "source": [
    "print(titanic_train[\"Embarked\"].unique())\n",
    "sns.countplot(titanic_train['Embarked'])"
   ]
  },
  {
   "cell_type": "markdown",
   "metadata": {},
   "source": [
    "<br>Seeing that not all entries have values for \"Embarked\" and \"S\" is by far the most common value for this feature, we will set the missing values to \"S\"."
   ]
  },
  {
   "cell_type": "code",
   "execution_count": 52,
   "metadata": {
    "collapsed": false
   },
   "outputs": [],
   "source": [
    "titanic_train.loc[titanic_train[\"Embarked\"] == \"nan\", \"Embarked\"] = \"S\"\n",
    "titanic_train.loc[titanic_train[\"Embarked\"] == \"S\", \"Embarked\"] = 0\n",
    "titanic_train.loc[titanic_train[\"Embarked\"] == \"C\", \"Embarked\"] = 1\n",
    "titanic_train.loc[titanic_train[\"Embarked\"] == \"Q\", \"Embarked\"] = 2\n",
    "\n",
    "titanic_test.loc[titanic_test[\"Embarked\"] == \"nan\", \"Embarked\"] = \"S\"\n",
    "titanic_test.loc[titanic_test[\"Embarked\"] == \"S\", \"Embarked\"] = 0\n",
    "titanic_test.loc[titanic_test[\"Embarked\"] == \"C\", \"Embarked\"] = 1\n",
    "titanic_test.loc[titanic_test[\"Embarked\"] == \"Q\", \"Embarked\"] = 2"
   ]
  },
  {
   "cell_type": "markdown",
   "metadata": {},
   "source": [
    "#### Visualizing the Data:\n",
    "\n",
    "Now, lets get a better idea of the overall proportion of survivors, by plotting the number of the survived beside the number of the deceased."
   ]
  },
  {
   "cell_type": "code",
   "execution_count": 14,
   "metadata": {
    "collapsed": false,
    "scrolled": true
   },
   "outputs": [
    {
     "data": {
      "text/plain": [
       "<matplotlib.axes._subplots.AxesSubplot at 0x7f7cc2ff3f28>"
      ]
     },
     "execution_count": 14,
     "metadata": {},
     "output_type": "execute_result"
    },
    {
     "data": {
      "image/png": "[encoded data removed]",
      "text/plain": [
       "<matplotlib.figure.Figure at 0x7f7cc2f44f28>"
      ]
     },
     "metadata": {},
     "output_type": "display_data"
    }
   ],
   "source": [
    "sns.countplot(titanic_train['Survived'])"
   ]
  },
  {
   "cell_type": "markdown",
   "metadata": {},
   "source": [
    "Now, lets plot each of the selected features against the survived feature, to see if any values tend to have disproportionate survival ratios.\n",
    "<br><br>\n"
   ]
  },
  {
   "cell_type": "markdown",
   "metadata": {},
   "source": [
    "#### Pclass"
   ]
  },
  {
   "cell_type": "code",
   "execution_count": 18,
   "metadata": {
    "collapsed": false
   },
   "outputs": [
    {
     "data": {
      "text/plain": [
       "<matplotlib.axes._subplots.AxesSubplot at 0x7f7cc2c01b38>"
      ]
     },
     "execution_count": 18,
     "metadata": {},
     "output_type": "execute_result"
    },
    {
     "data": {
      "image/png": "[encoded data removed]",
      "text/plain": [
       "<matplotlib.figure.Figure at 0x7f7cc2c50c50>"
      ]
     },
     "metadata": {},
     "output_type": "display_data"
    }
   ],
   "source": [
    "sns.countplot(titanic_train['Pclass'], hue=titanic_train['Survived'])"
   ]
  },
  {
   "cell_type": "markdown",
   "metadata": {},
   "source": [
    "#### Age"
   ]
  },
  {
   "cell_type": "code",
   "execution_count": 63,
   "metadata": {
    "collapsed": false,
    "scrolled": true
   },
   "outputs": [
    {
     "data": {
      "text/plain": [
       "Age\n",
       "[0.42, 17]    0.539823\n",
       "(17, 22]      0.313559\n",
       "(22, 27]      0.405660\n",
       "(27, 28]      0.292079\n",
       "(28, 29]      0.363636\n",
       "(29, 35]      0.451327\n",
       "(35, 45]      0.394737\n",
       "(45, 80]      0.368932\n",
       "Name: Survived, dtype: float64"
      ]
     },
     "execution_count": 63,
     "metadata": {},
     "output_type": "execute_result"
    },
    {
     "data": {
      "image/png": "[encoded data removed]",
      "text/plain": [
       "<matplotlib.figure.Figure at 0x7f7cbfc43ac8>"
      ]
     },
     "metadata": {},
     "output_type": "display_data"
    }
   ],
   "source": [
    "sns.distplot(titanic_train['Age'], bins=10, kde=False, rug=True)\n",
    "\n",
    "titanic_train['Survived'].groupby(pd.qcut(titanic_train['Age'],8)).mean()"
   ]
  },
  {
   "cell_type": "markdown",
   "metadata": {},
   "source": [
    "#### SibSp"
   ]
  },
  {
   "cell_type": "code",
   "execution_count": 55,
   "metadata": {
    "collapsed": false
   },
   "outputs": [
    {
     "data": {
      "text/plain": [
       "<matplotlib.axes._subplots.AxesSubplot at 0x7f7cc1657cc0>"
      ]
     },
     "execution_count": 55,
     "metadata": {},
     "output_type": "execute_result"
    },
    {
     "data": {
      "image/png": "[encoded data removed]",
      "text/plain": [
       "<matplotlib.figure.Figure at 0x7f7cc1cc5518>"
      ]
     },
     "metadata": {},
     "output_type": "display_data"
    }
   ],
   "source": [
    "sns.countplot(titanic_train['SibSp'], hue=titanic_train['Survived'])"
   ]
  },
  {
   "cell_type": "markdown",
   "metadata": {},
   "source": [
    "#### Fare"
   ]
  },
  {
   "cell_type": "code",
   "execution_count": 72,
   "metadata": {
    "collapsed": false
   },
   "outputs": [
    {
     "data": {
      "text/plain": [
       "Fare\n",
       "[0, 7.229]          0.142857\n",
       "(7.229, 7.75]       0.271429\n",
       "(7.75, 7.854]       0.256410\n",
       "(7.854, 7.925]      0.209677\n",
       "(7.925, 8.662]      0.134328\n",
       "(8.662, 10.5]       0.272727\n",
       "(10.5, 13]          0.461538\n",
       "(13, 15.678]        0.297872\n",
       "(15.678, 21.679]    0.483333\n",
       "(21.679, 26]        0.459016\n",
       "(26, 30]            0.475410\n",
       "(30, 39.688]        0.396552\n",
       "(39.688, 62.439]    0.543860\n",
       "(62.439, 90]        0.629032\n",
       "(90, 512.329]       0.754386\n",
       "Name: Survived, dtype: float64"
      ]
     },
     "execution_count": 72,
     "metadata": {},
     "output_type": "execute_result"
    },
    {
     "data": {
      "image/png": "[encoded data removed]",
      "text/plain": [
       "<matplotlib.figure.Figure at 0x7f7cbf0c1908>"
      ]
     },
     "metadata": {},
     "output_type": "display_data"
    }
   ],
   "source": [
    "sns.distplot(titanic_train['Fare'], bins=15, kde=False, rug=True)\n",
    "\n",
    "titanic_train['Survived'].groupby(pd.qcut(titanic_train['Fare'],15)).mean()"
   ]
  },
  {
   "cell_type": "markdown",
   "metadata": {},
   "source": [
    "#### Sex"
   ]
  },
  {
   "cell_type": "code",
   "execution_count": 45,
   "metadata": {
    "collapsed": false
   },
   "outputs": [
    {
     "data": {
      "text/plain": [
       "<matplotlib.axes._subplots.AxesSubplot at 0x7f7cc1f79f28>"
      ]
     },
     "execution_count": 45,
     "metadata": {},
     "output_type": "execute_result"
    },
    {
     "data": {
      "image/png": "[encoded data removed]",
      "text/plain": [
       "<matplotlib.figure.Figure at 0x7f7cc1513da0>"
      ]
     },
     "metadata": {},
     "output_type": "display_data"
    }
   ],
   "source": [
    "sns.countplot(titanic_train['Sex'], hue=titanic_train['Survived'])"
   ]
  },
  {
   "cell_type": "markdown",
   "metadata": {},
   "source": [
    "#### Embarked"
   ]
  },
  {
   "cell_type": "code",
   "execution_count": 46,
   "metadata": {
    "collapsed": false
   },
   "outputs": [
    {
     "data": {
      "text/plain": [
       "<matplotlib.axes._subplots.AxesSubplot at 0x7f7cc1ce5320>"
      ]
     },
     "execution_count": 46,
     "metadata": {},
     "output_type": "execute_result"
    },
    {
     "data": {
      "image/png": "[encoded data removed]",
      "text/plain": [
       "<matplotlib.figure.Figure at 0x7f7cc2e9d8d0>"
      ]
     },
     "metadata": {},
     "output_type": "display_data"
    }
   ],
   "source": [
    "sns.countplot(titanic_train['Embarked'], hue=titanic_train['Survived'])"
   ]
  },
  {
   "cell_type": "markdown",
   "metadata": {},
   "source": [
    "#### Cabin\n",
    "\n",
    "By observing the first 5 elements of the datatable, we saw that 3 of those 5 had values of NaN for Cabin, so lets see how many total elements in the datatable have this value.  If the total is negligible, we can replace those values with something else and use the feature."
   ]
  },
  {
   "cell_type": "code",
   "execution_count": 53,
   "metadata": {
    "collapsed": false
   },
   "outputs": [
    {
     "name": "stdout",
     "output_type": "stream",
     "text": [
      "687\n"
     ]
    }
   ],
   "source": [
    "print (titanic_train.Cabin.isnull().sum())"
   ]
  },
  {
   "cell_type": "markdown",
   "metadata": {},
   "source": [
    "As we can see, this is a very large portion of our training data, so this feature will be ignored.<br><br>"
   ]
  },
  {
   "cell_type": "code",
   "execution_count": 130,
   "metadata": {
    "collapsed": false
   },
   "outputs": [],
   "source": [
    "#Clean data by removing useless or irrelevant columns4\n",
    "features = [\"Pclass\", \"Sex\", \"Age\", \"SibSp\", \"Fare\", \"Name_Length\"]\n",
    "titanic_train_features = titanic_train[features]\n",
    "titanic_train_labels = titanic_train[\"Survived\"]\n"
   ]
  },
  {
   "cell_type": "markdown",
   "metadata": {},
   "source": [
    "### Now, create a baseline predictor.\n",
    "\n",
    "Create a k folds cross validator, and begin training and testing a Decision Tree classifier, optimized using a hyperparameter grid search.  The optimized Decision Tree will be the baseline classifier."
   ]
  },
  {
   "cell_type": "code",
   "execution_count": 131,
   "metadata": {
    "collapsed": false
   },
   "outputs": [
    {
     "name": "stdout",
     "output_type": "stream",
     "text": [
      "Score: 0.827160493827\n"
     ]
    }
   ],
   "source": [
    "#from sklearn.linear_model import LinearRegression\n",
    "from sklearn.tree import DecisionTreeClassifier\n",
    "from sklearn.metrics import accuracy_score, make_scorer\n",
    "from sklearn.model_selection import KFold, GridSearchCV\n",
    "\n",
    "#The scorer and kfold objects will be reused in later classifiers\n",
    "scorer = make_scorer(accuracy_score)\n",
    "kfold = KFold(n_splits=3, random_state=1)\n",
    "\n",
    "dt_parameters = {'min_samples_split':[2,6,7,8], \n",
    "                 'max_depth':[3,6,7,8], \n",
    "                 'min_samples_leaf':[1,2,3]}\n",
    "\n",
    "dt_grid_obj = GridSearchCV(DecisionTreeClassifier(random_state=32), dt_parameters, scoring=scorer, cv=kfold)\n",
    "grid_fit = grid_obj.fit(titanic_train_features, titanic_train_labels)\n",
    "best_clf = grid_fit.best_estimator_\n",
    "predictions = best_clf.predict(titanic_train_features)\n",
    "\n",
    "score = accuracy_score(titanic_train[\"Survived\"], predictions)\n",
    "print (\"Score:\", score)\n",
    "\n"
   ]
  },
  {
   "cell_type": "markdown",
   "metadata": {},
   "source": [
    "<br><b>Output the predictions of the decision tree to a csv file.</b>"
   ]
  },
  {
   "cell_type": "code",
   "execution_count": 134,
   "metadata": {
    "collapsed": false
   },
   "outputs": [],
   "source": [
    "titanic_test_features = titanic_test[features]\n",
    "test_pred = best_clf.predict(titanic_test_features)\n",
    "d = {'PassengerId':titanic_test[\"PassengerId\"] , 'Survived': test_pred}\n",
    "df = pd.DataFrame(data=d)\n",
    "df.to_csv(\"dt_predictions.csv\")"
   ]
  },
  {
   "cell_type": "markdown",
   "metadata": {
    "collapsed": true
   },
   "source": [
    "### Now, a Random Forest Classifier"
   ]
  },
  {
   "cell_type": "markdown",
   "metadata": {},
   "source": [
    "We will now create a random forest classifier, and find the best model using grid search and using the same hyperparameters from the decision tree."
   ]
  },
  {
   "cell_type": "code",
   "execution_count": 132,
   "metadata": {
    "collapsed": false
   },
   "outputs": [
    {
     "name": "stdout",
     "output_type": "stream",
     "text": [
      "Random Forest Score:  0.885521885522\n"
     ]
    }
   ],
   "source": [
    "from sklearn.ensemble import RandomForestClassifier\n",
    "\n",
    "rf_parameters = {\"min_samples_split\":[2,6,7,8], \n",
    "                 \"max_depth\":[2,6,7], \n",
    "                 \"min_samples_leaf\":[1,2,3],\n",
    "                 \"n_estimators\":[15,16]}\n",
    "\n",
    "rf_grid_obj = GridSearchCV(RandomForestClassifier(random_state=21), \n",
    "                           rf_parameters, scoring=scorer, cv=kfold)\n",
    "rf_grid_fit = rf_grid_obj.fit(titanic_train_features, titanic_train_labels)\n",
    "best_rf_clf = rf_grid_fit.best_estimator_\n",
    "rf_predictions = best_rf_clf.predict(titanic_train_features)\n",
    "\n",
    "rf_score = accuracy_score(titanic_train[\"Survived\"], rf_predictions)\n",
    "print (\"Random Forest Score: \", rf_score)"
   ]
  },
  {
   "cell_type": "code",
   "execution_count": 135,
   "metadata": {
    "collapsed": false
   },
   "outputs": [],
   "source": [
    "rf_test_pred = best_rf_clf.predict(titanic_test_features)\n",
    "d = {'PassengerId':titanic_test[\"PassengerId\"] , 'Survived': rf_test_pred}\n",
    "df = pd.DataFrame(data=d)\n",
    "df.to_csv(\"rf_predictions.csv\")"
   ]
  },
  {
   "cell_type": "markdown",
   "metadata": {},
   "source": [
    "This scored approximately the same as a single decision tree, but a little bit better.  Let's try a boosted alorithm, AdaBoost."
   ]
  },
  {
   "cell_type": "markdown",
   "metadata": {},
   "source": [
    "### AdaBoost Classifier"
   ]
  },
  {
   "cell_type": "code",
   "execution_count": 136,
   "metadata": {
    "collapsed": false
   },
   "outputs": [
    {
     "name": "stdout",
     "output_type": "stream",
     "text": [
      "Random Forest Score:  0.8911335578\n"
     ]
    }
   ],
   "source": [
    "from sklearn.ensemble import AdaBoostClassifier\n",
    "\n",
    "ab_parameters = {\"base_estimator__min_samples_split\":[2,6,7,8], \n",
    "                 \"base_estimator__max_depth\":[6,7], \n",
    "                 \"base_estimator__min_samples_leaf\":[1,2,3],\n",
    "                 \"n_estimators\":[2,3,4,5,6]}\n",
    "\n",
    "ab_grid_obj = GridSearchCV(AdaBoostClassifier(random_state=21, \n",
    "                                base_estimator=DecisionTreeClassifier(random_state=21)), \n",
    "                           ab_parameters, scoring=scorer, cv=kfold)\n",
    "ab_grid_fit = ab_grid_obj.fit(titanic_train_features, titanic_train_labels)\n",
    "best_ab_clf = ab_grid_fit.best_estimator_\n",
    "ab_predictions = best_ab_clf.predict(titanic_train_features)\n",
    "\n",
    "ab_score = accuracy_score(titanic_train[\"Survived\"], ab_predictions)\n",
    "print (\"Random Forest Score: \", ab_score)"
   ]
  },
  {
   "cell_type": "code",
   "execution_count": 137,
   "metadata": {
    "collapsed": true
   },
   "outputs": [],
   "source": [
    "ab_test_pred = best_ab_clf.predict(titanic_test_features)\n",
    "d = {'PassengerId':titanic_test[\"PassengerId\"] , 'Survived': ab_test_pred}\n",
    "df = pd.DataFrame(data=d)\n",
    "df.to_csv(\"ab_predictions.csv\")"
   ]
  },
  {
   "cell_type": "code",
   "execution_count": null,
   "metadata": {
    "collapsed": true
   },
   "outputs": [],
   "source": []
  }
 ],
 "metadata": {
  "anaconda-cloud": {},
  "kernelspec": {
   "display_name": "Python [conda env:iPython3]",
   "language": "python",
   "name": "conda-env-iPython3-py"
  },
  "language_info": {
   "codemirror_mode": {
    "name": "ipython",
    "version": 3
   },
   "file_extension": ".py",
   "mimetype": "text/x-python",
   "name": "python",
   "nbconvert_exporter": "python",
   "pygments_lexer": "ipython3",
   "version": "3.6.0"
  }
 },
 "nbformat": 4,
 "nbformat_minor": 1
}
