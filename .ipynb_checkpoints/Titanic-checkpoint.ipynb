{
 "cells": [
  {
   "cell_type": "markdown",
   "metadata": {},
   "source": [
    "<b>Import libraries, read in data, and inspect.</b>"
   ]
  },
  {
   "cell_type": "code",
   "execution_count": 87,
   "metadata": {
    "collapsed": false
   },
   "outputs": [
    {
     "name": "stdout",
     "output_type": "stream",
     "text": [
      "   PassengerId  Survived  Pclass  \\\n",
      "0            1         0       3   \n",
      "1            2         1       1   \n",
      "2            3         1       3   \n",
      "3            4         1       1   \n",
      "4            5         0       3   \n",
      "\n",
      "                                                Name     Sex   Age  SibSp  \\\n",
      "0                            Braund, Mr. Owen Harris    male  22.0      1   \n",
      "1  Cumings, Mrs. John Bradley (Florence Briggs Th...  female  38.0      1   \n",
      "2                             Heikkinen, Miss. Laina  female  26.0      0   \n",
      "3       Futrelle, Mrs. Jacques Heath (Lily May Peel)  female  35.0      1   \n",
      "4                           Allen, Mr. William Henry    male  35.0      0   \n",
      "\n",
      "   Parch            Ticket     Fare Cabin Embarked  \n",
      "0      0         A/5 21171   7.2500   NaN        S  \n",
      "1      0          PC 17599  71.2833   C85        C  \n",
      "2      0  STON/O2. 3101282   7.9250   NaN        S  \n",
      "3      0            113803  53.1000  C123        S  \n",
      "4      0            373450   8.0500   NaN        S  \n",
      "       PassengerId    Survived      Pclass         Age       SibSp  \\\n",
      "count   891.000000  891.000000  891.000000  714.000000  891.000000   \n",
      "mean    446.000000    0.383838    2.308642   29.699118    0.523008   \n",
      "std     257.353842    0.486592    0.836071   14.526497    1.102743   \n",
      "min       1.000000    0.000000    1.000000    0.420000    0.000000   \n",
      "25%     223.500000    0.000000    2.000000   20.125000    0.000000   \n",
      "50%     446.000000    0.000000    3.000000   28.000000    0.000000   \n",
      "75%     668.500000    1.000000    3.000000   38.000000    1.000000   \n",
      "max     891.000000    1.000000    3.000000   80.000000    8.000000   \n",
      "\n",
      "            Parch        Fare  \n",
      "count  891.000000  891.000000  \n",
      "mean     0.381594   32.204208  \n",
      "std      0.806057   49.693429  \n",
      "min      0.000000    0.000000  \n",
      "25%      0.000000    7.910400  \n",
      "50%      0.000000   14.454200  \n",
      "75%      0.000000   31.000000  \n",
      "max      6.000000  512.329200  \n"
     ]
    }
   ],
   "source": [
    "import pandas as pd\n",
    "import numpy as np\n",
    "titanic_train = pd.read_csv(\"train.csv\")\n",
    "titanic_test = pd.read_csv(\"test.csv\")\n",
    "\n",
    "print(titanic_train.head(5))\n",
    "print(titanic_train.describe())"
   ]
  },
  {
   "cell_type": "markdown",
   "metadata": {},
   "source": [
    "<br>\n",
    "<b>Fixing up the data: \n",
    "\n",
    "First, set values for all missing age attributes\n",
    "\n",
    "Second, encode the gender values</b>"
   ]
  },
  {
   "cell_type": "code",
   "execution_count": 88,
   "metadata": {
    "collapsed": false
   },
   "outputs": [],
   "source": [
    "titanic_train[\"Age\"] = titanic_train[\"Age\"].fillna(titanic_train[\"Age\"].median())\n",
    "\n",
    "#Set the \"Sex\" value to 0 for any entry that has \"Sex\" value of \"male\" and set the value to 1 for any entry that has\n",
    "#\"Sex\" value of \"female\"\n",
    "titanic_train.loc[titanic_train[\"Sex\"] == \"male\", \"Sex\"] = 0\n",
    "titanic_train.loc[titanic_train[\"Sex\"] == \"female\", \"Sex\"] = 1\n",
    "\n",
    "\n",
    "titanic_test[\"Age\"] = titanic_test[\"Age\"].fillna(titanic_test[\"Age\"].median())\n",
    "titanic_test[\"Fare\"] = titanic_test[\"Fare\"].fillna(titanic_test[\"Fare\"].median())\n",
    "titanic_test.loc[titanic_test[\"Sex\"] == \"male\", \"Sex\"] = 0\n",
    "titanic_test.loc[titanic_test[\"Sex\"] == \"female\", \"Sex\"] = 1"
   ]
  },
  {
   "cell_type": "markdown",
   "metadata": {},
   "source": [
    "Check the values of other non-numeric features; encode them accordingly."
   ]
  },
  {
   "cell_type": "code",
   "execution_count": 59,
   "metadata": {
    "collapsed": false
   },
   "outputs": [
    {
     "name": "stdout",
     "output_type": "stream",
     "text": [
      "['S' 'C' 'Q' nan]\n"
     ]
    }
   ],
   "source": [
    "print(titanic_train[\"Embarked\"].unique())"
   ]
  },
  {
   "cell_type": "code",
   "execution_count": 89,
   "metadata": {
    "collapsed": false
   },
   "outputs": [],
   "source": [
    "titanic_train.loc[titanic_train[\"Embarked\"] == \"nan\", \"Embarked\"] = \"S\"\n",
    "titanic_train.loc[titanic_train[\"Embarked\"] == \"S\", \"Embarked\"] = 0\n",
    "titanic_train.loc[titanic_train[\"Embarked\"] == \"C\", \"Embarked\"] = 1\n",
    "titanic_train.loc[titanic_train[\"Embarked\"] == \"Q\", \"Embarked\"] = 2\n",
    "\n",
    "titanic_test.loc[titanic_test[\"Embarked\"] == \"nan\", \"Embarked\"] = \"S\"\n",
    "titanic_test.loc[titanic_test[\"Embarked\"] == \"S\", \"Embarked\"] = 0\n",
    "titanic_test.loc[titanic_test[\"Embarked\"] == \"C\", \"Embarked\"] = 1\n",
    "titanic_test.loc[titanic_test[\"Embarked\"] == \"Q\", \"Embarked\"] = 2"
   ]
  },
  {
   "cell_type": "code",
   "execution_count": 102,
   "metadata": {
    "collapsed": false
   },
   "outputs": [],
   "source": [
    "#Clean data by removing useless or irrelevant columns4\n",
    "features = [\"Pclass\", \"Sex\", \"Age\", \"SibSp\", \"Fare\"]\n",
    "titanic_train_features = titanic_train[features]\n",
    "titanic_train_labels = titanic_train[\"Survived\"]\n"
   ]
  },
  {
   "cell_type": "markdown",
   "metadata": {},
   "source": [
    "<br>\n",
    "<b>Create k folds cross validator, and begin training and testing.</b>"
   ]
  },
  {
   "cell_type": "code",
   "execution_count": 113,
   "metadata": {
    "collapsed": false
   },
   "outputs": [
    {
     "name": "stdout",
     "output_type": "stream",
     "text": [
      "0.813692480359\n",
      "0.827160493827\n"
     ]
    }
   ],
   "source": [
    "#from sklearn.linear_model import LinearRegression\n",
    "from sklearn.tree import DecisionTreeClassifier\n",
    "from sklearn.metrics import accuracy_score, make_scorer\n",
    "from sklearn.model_selection import KFold, GridSearchCV\n",
    "\n",
    "parameters = {'min_samples_split':[2,6,7,8], 'max_depth':[3,6,7,8], 'min_samples_leaf':[1,2,3]}\n",
    "scorer = make_scorer(accuracy_score)\n",
    "grid_obj = GridSearchCV(DecisionTreeClassifier(random_state=32), parameters, scorer)\n",
    "\n",
    "kfold = KFold(n_splits=3, random_state=1)\n",
    "\n",
    "predictions = []\n",
    "\n",
    "for train, test in kfold.split(titanic_train_features):\n",
    "    train_features = (titanic_train_features.iloc[train,:])\n",
    "    train_target = titanic_train_labels.iloc[train]\n",
    "    \n",
    "    grid_fit = grid_obj.fit(train_features, train_target)\n",
    "    best_clf = grid_fit.best_estimator_\n",
    "    best_clf.fit(train_features, train_target)\n",
    "    test_predictions = best_clf.predict(titanic_train_features.iloc[test,:])\n",
    "    predictions.append(test_predictions)\n",
    "\n",
    "predictions = np.concatenate(predictions, axis=0)\n",
    "score = accuracy_score(titanic_train[\"Survived\"], predictions)\n",
    "\n",
    "print (score)\n",
    "\n",
    "best_clf.fit(titanic_train_features, titanic_train_labels)\n",
    "predictions = best_clf.predict(titanic_train_features)\n",
    "score = accuracy_score(titanic_train[\"Survived\"], predictions)\n",
    "\n",
    "print (score)\n",
    "\n"
   ]
  },
  {
   "cell_type": "code",
   "execution_count": 130,
   "metadata": {
    "collapsed": false
   },
   "outputs": [],
   "source": [
    "titanic_test_features = titanic_test[features]\n",
    "test_pred = best_clf.predict(titanic_test_features)\n",
    "d = {'PassengerId':titanic_test[\"PassengerId\"] , 'Survived': test_pred}\n",
    "df = pd.DataFrame(data=d)\n",
    "df.to_csv(\"predictions.csv\")"
   ]
  },
  {
   "cell_type": "code",
   "execution_count": null,
   "metadata": {
    "collapsed": true
   },
   "outputs": [],
   "source": []
  }
 ],
 "metadata": {
  "anaconda-cloud": {},
  "kernelspec": {
   "display_name": "Python [conda env:iPython3]",
   "language": "python",
   "name": "conda-env-iPython3-py"
  },
  "language_info": {
   "codemirror_mode": {
    "name": "ipython",
    "version": 3
   },
   "file_extension": ".py",
   "mimetype": "text/x-python",
   "name": "python",
   "nbconvert_exporter": "python",
   "pygments_lexer": "ipython3",
   "version": "3.6.0"
  }
 },
 "nbformat": 4,
 "nbformat_minor": 1
}
